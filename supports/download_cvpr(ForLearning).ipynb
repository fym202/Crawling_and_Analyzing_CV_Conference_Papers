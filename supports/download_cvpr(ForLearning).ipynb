{
 "cells": [
  {
   "cell_type": "code",
   "execution_count": 1,
   "metadata": {},
   "outputs": [],
   "source": [
    "from selenium import webdriver  \n",
    "from selenium.webdriver.common.by import By\n",
    "import time  \n",
    "import urllib  \n",
    "from slugify import slugify\n",
    "import requests \n",
    "import random\n",
    "import os\n",
    "import re\n"
   ]
  },
  {
   "cell_type": "markdown",
   "metadata": {},
   "source": [
    "# 下载方式\n",
    "\n",
    "1. 需要找到论文列表页，例如对于cvpr，我们进入官网https://openaccess.thecvf.com/CVPR2023  （带图的在download中）\n",
    "\n",
    "2. 发现有All parper，点击后进入，然后就进入一个全是论文的列表页了。这个列表页对应的网址就是我们要填的网址\n",
    "\n",
    "3. 最后，选择主题和存放路径后就可以爬取了。\n",
    "\n",
    "# 修改内容\n",
    "\n",
    "1. 增加主题和关键字检测\n",
    "2. 在获得所有论文的列表后，进行关键字筛选\n",
    "3. 在最后保存文件的时候，要对文件名部分做修改，让文件名更容易读。\n"
   ]
  },
  {
   "cell_type": "code",
   "execution_count": 2,
   "metadata": {},
   "outputs": [],
   "source": [
    "# CVPR 2023 DETECT\n",
    "# conference_url = \"https://openaccess.thecvf.com/CVPR2023?day=all\" # the conference url to download papers from\n",
    "# Edgedriver_path = r'./supports/msedgedriver.exe'.replace('\\\\','/') # the chromedriver.exe path\n",
    "# # 主题\n",
    "# subjcet  = \"Detect\" # 论文主题\n",
    "# pattens = [\"Detect\", \"DETR\", \"RCNN\", \"YOLO\"]  #  要检测的关键字\n",
    "# root = r'D:\\Papers\\CVPR2023_' + subjcet\n",
    "# root.replace('\\\\','/')  # 设置本次下载的目录"
   ]
  },
  {
   "cell_type": "code",
   "execution_count": 3,
   "metadata": {},
   "outputs": [
    {
     "data": {
      "text/plain": [
       "'D:\\\\Papers\\\\ICCV2023_Detect'"
      ]
     },
     "execution_count": 3,
     "metadata": {},
     "output_type": "execute_result"
    }
   ],
   "source": [
    "conference_url = \"https://openaccess.thecvf.com/ICCV2023?day=all\" # the conference url to download papers from\n",
    "Edgedriver_path = r'./supports/msedgedriver.exe'.replace('\\\\','/') # the chromedriver.exe path\n",
    "# 主题\n",
    "subjcet = \"Detect\"  # 论文主题\n",
    "pattens = [\"Detect\", \"DETR\", \"RCNN\", \"YOLO\"]  #  要检测的关键字\n",
    "root = r'D:\\Papers\\ICCV2023_' + subjcet\n",
    "root.replace('\\\\','/')  # 设置本次下载的目录\n",
    "\n",
    "\n",
    "root"
   ]
  },
  {
   "cell_type": "code",
   "execution_count": 4,
   "metadata": {},
   "outputs": [
    {
     "name": "stdout",
     "output_type": "stream",
     "text": [
      "D:\\Papers\\ICCV2023_Detect\n",
      "./supports/msedgedriver.exe\n"
     ]
    }
   ],
   "source": [
    "os.makedirs(root, exist_ok=True)\n",
    "print(root)\n",
    "print(Edgedriver_path)\n",
    "driver = webdriver.Edge()  \n",
    "driver.get(conference_url)\n"
   ]
  },
  {
   "cell_type": "code",
   "execution_count": 5,
   "metadata": {},
   "outputs": [],
   "source": [
    "# 获得所有论列表\n",
    "pdfurllist =  []\n",
    "pdfnamelist = []\n",
    "\n",
    "# title_element_list = driver.find_elements_by_class_name('ptitle')\n",
    "# url_element_list = driver.find_elements_by_partial_link_text('pdf')\n",
    "title_element_list = driver.find_elements(by=By.CLASS_NAME, value='ptitle')\n",
    "url_element_list = driver.find_elements(by=By.PARTIAL_LINK_TEXT, value='pdf')\n",
    "for i, element in enumerate(url_element_list): \n",
    "\n",
    "    pdfnamelist.append(title_element_list[i].text)\n",
    "    pdfurllist.append(url_element_list[i].get_attribute('href'))\n",
    "\n"
   ]
  },
  {
   "cell_type": "code",
   "execution_count": 6,
   "metadata": {},
   "outputs": [
    {
     "name": "stdout",
     "output_type": "stream",
     "text": [
      "All paper is: 2156\n"
     ]
    }
   ],
   "source": [
    "print(\"All paper is:\", len(pdfurllist))"
   ]
  },
  {
   "cell_type": "code",
   "execution_count": 7,
   "metadata": {},
   "outputs": [
    {
     "name": "stdout",
     "output_type": "stream",
     "text": [
      "Total paper number in Detect is: 171\n"
     ]
    }
   ],
   "source": [
    "# 根据主题筛选论文\n",
    "download_pdfurllist = []\n",
    "download_pdfnamelist = []\n",
    "# 筛选包含关键词的论文\n",
    "for i in range(len(pdfurllist)): \n",
    "    download_flag = False  # 判断是否下载的变量\n",
    "    for p in pattens:\n",
    "        if re.search(p, pdfurllist[i]):  # 检索到关键词就设置True并跳出\n",
    "            download_flag = True\n",
    "            break\n",
    "    # flag为 True 就下载\n",
    "    if download_flag:\n",
    "        download_pdfurllist.append(pdfurllist[i])\n",
    "        download_pdfnamelist.append(pdfnamelist[i])\n",
    "print(\"Total paper number in \" + subjcet + \" is: \" + str(len(download_pdfurllist)))\n",
    "        "
   ]
  },
  {
   "cell_type": "code",
   "execution_count": 8,
   "metadata": {},
   "outputs": [
    {
     "name": "stdout",
     "output_type": "stream",
     "text": [
      "The first 5 pdf urls:\n",
      "\n",
      "https://openaccess.thecvf.com/content/ICCV2023/papers/Zhang_A_Dynamic_Dual-Processing_Object_Detection_Framework_Inspired_by_the_Brains_ICCV_2023_paper.pdf\n",
      "https://openaccess.thecvf.com/content/ICCV2023/papers/Cao_E2E-LOAD_End-to-End_Long-form_Online_Action_Detection_ICCV_2023_paper.pdf\n",
      "https://openaccess.thecvf.com/content/ICCV2023/papers/Xu_TALL_Thumbnail_Layout_for_Deepfake_Video_Detection_ICCV_2023_paper.pdf\n",
      "https://openaccess.thecvf.com/content/ICCV2023/papers/He_Bidirectional_Alignment_for_Domain_Adaptive_Detection_with_Transformers_ICCV_2023_paper.pdf\n",
      "https://openaccess.thecvf.com/content/ICCV2023/papers/Zhao_Unified_Visual_Relationship_Detection_with_Vision_and_Language_Models_ICCV_2023_paper.pdf\n",
      "\n",
      "The last 5 pdf urls:\n",
      "\n",
      "https://openaccess.thecvf.com/content/ICCV2023/papers/Ye_Efficient_Transformer-based_3D_Object_Detection_with_Dynamic_Token_Halting_ICCV_2023_paper.pdf\n",
      "https://openaccess.thecvf.com/content/ICCV2023/papers/Hornauer_Out-of-Distribution_Detection_for_Monocular_Depth_Estimation_ICCV_2023_paper.pdf\n",
      "https://openaccess.thecvf.com/content/ICCV2023/papers/Tang_CoTDet_Affordance_Knowledge_Prompting_for_Task_Driven_Object_Detection_ICCV_2023_paper.pdf\n",
      "https://openaccess.thecvf.com/content/ICCV2023/papers/McIntosh_Inter-Realization_Channels_Unsupervised_Anomaly_Detection_Beyond_One-Class_Classification_ICCV_2023_paper.pdf\n",
      "https://openaccess.thecvf.com/content/ICCV2023/papers/Wu_Label-Efficient_Online_Continual_Object_Detection_in_Streaming_Video_ICCV_2023_paper.pdf\n",
      "=======================================================\n"
     ]
    }
   ],
   "source": [
    "# check the retrieved urls\n",
    "print('The first 5 pdf urls:\\n')\n",
    "for i in range(5):\n",
    "    print(download_pdfurllist[i])\n",
    "print('\\nThe last 5 pdf urls:\\n')\n",
    "for i in range(5):\n",
    "    print(download_pdfurllist[-(i+1)])\n",
    "print('=======================================================')\n"
   ]
  },
  {
   "cell_type": "code",
   "execution_count": 9,
   "metadata": {},
   "outputs": [
    {
     "name": "stdout",
     "output_type": "stream",
     "text": [
      "The first 5 pdf titles:\n",
      "\n",
      "A Dynamic Dual-Processing Object Detection Framework Inspired by the Brain's Recognition Mechanism\n",
      "E2E-LOAD: End-to-End Long-form Online Action Detection\n",
      "TALL: Thumbnail Layout for Deepfake Video Detection\n",
      "Bidirectional Alignment for Domain Adaptive Detection with Transformers\n",
      "Unified Visual Relationship Detection with Vision and Language Models\n",
      "\n",
      "The last 5 pdf titles:\n",
      "\n",
      "Efficient Transformer-based 3D Object Detection with Dynamic Token Halting\n",
      "Out-of-Distribution Detection for Monocular Depth Estimation\n",
      "CoTDet: Affordance Knowledge Prompting for Task Driven Object Detection\n",
      "Inter-Realization Channels: Unsupervised Anomaly Detection Beyond One-Class Classification\n",
      "Label-Efficient Online Continual Object Detection in Streaming Video\n"
     ]
    }
   ],
   "source": [
    "# check the retrieved paper titles\n",
    "print('The first 5 pdf titles:\\n')\n",
    "for i in range(5):\n",
    "    print(download_pdfnamelist[i])\n",
    "print('\\nThe last 5 pdf titles:\\n')\n",
    "for i in range(5):\n",
    "    print(download_pdfnamelist[-(i+1)])"
   ]
  },
  {
   "cell_type": "code",
   "execution_count": 10,
   "metadata": {},
   "outputs": [
    {
     "name": "stdout",
     "output_type": "stream",
     "text": [
      "The number of papers is  171\n"
     ]
    }
   ],
   "source": [
    "print('The number of papers is ', len(download_pdfnamelist))\n",
    "assert len(download_pdfnamelist)==len(download_pdfurllist), 'The number of titles and the number of urls are not matched. \\\n",
    "                                            You might solve the problem by checking the HTML code in the \\\n",
    "                                            website yourself or you could ask the author by raising an issue.'\n",
    "\n"
   ]
  },
  {
   "cell_type": "code",
   "execution_count": 11,
   "metadata": {
    "scrolled": true
   },
   "outputs": [
    {
     "name": "stdout",
     "output_type": "stream",
     "text": [
      "Start downloading\n",
      "existed 0 \t A Dynamic Dual-Processing Object Detection Framework Inspired by the Brain's Recognition Mechanism \t https://openaccess.thecvf.com/content/ICCV2023/papers/Zhang_A_Dynamic_Dual-Processing_Object_Detection_Framework_Inspired_by_the_Brains_ICCV_2023_paper.pdf\n",
      "existed 1 \t E2E-LOAD: End-to-End Long-form Online Action Detection \t https://openaccess.thecvf.com/content/ICCV2023/papers/Cao_E2E-LOAD_End-to-End_Long-form_Online_Action_Detection_ICCV_2023_paper.pdf\n",
      "existed 2 \t TALL: Thumbnail Layout for Deepfake Video Detection \t https://openaccess.thecvf.com/content/ICCV2023/papers/Xu_TALL_Thumbnail_Layout_for_Deepfake_Video_Detection_ICCV_2023_paper.pdf\n",
      "existed 3 \t Bidirectional Alignment for Domain Adaptive Detection with Transformers \t https://openaccess.thecvf.com/content/ICCV2023/papers/He_Bidirectional_Alignment_for_Domain_Adaptive_Detection_with_Transformers_ICCV_2023_paper.pdf\n",
      "existed 4 \t Unified Visual Relationship Detection with Vision and Language Models \t https://openaccess.thecvf.com/content/ICCV2023/papers/Zhao_Unified_Visual_Relationship_Detection_with_Vision_and_Language_Models_ICCV_2023_paper.pdf\n",
      "existed 5 \t Towards Understanding the Generalization of Deepfake Detectors from a Game-Theoretical View \t https://openaccess.thecvf.com/content/ICCV2023/papers/Yao_Towards_Understanding_the_Generalization_of_Deepfake_Detectors_from_a_Game-Theoretical_ICCV_2023_paper.pdf\n",
      "existed 6 \t NeRF-Det: Learning Geometry-Aware Volumetric Representation for Multi-View 3D Object Detection \t https://openaccess.thecvf.com/content/ICCV2023/papers/Xu_NeRF-Det_Learning_Geometry-Aware_Volumetric_Representation_for_Multi-View_3D_Object_Detection_ICCV_2023_paper.pdf\n",
      "existed 7 \t Hierarchical Contrastive Learning for Pattern-Generalizable Image Corruption Detection \t https://openaccess.thecvf.com/content/ICCV2023/papers/Feng_Hierarchical_Contrastive_Learning_for_Pattern-Generalizable_Image_Corruption_Detection_ICCV_2023_paper.pdf\n",
      "existed 8 \t Towards Generic Image Manipulation Detection with Weakly-Supervised Self-Consistency Learning \t https://openaccess.thecvf.com/content/ICCV2023/papers/Zhai_Towards_Generic_Image_Manipulation_Detection_with_Weakly-Supervised_Self-Consistency_Learning_ICCV_2023_paper.pdf\n",
      "existed 9 \t Periodically Exchange Teacher-Student for Source-Free Object Detection \t https://openaccess.thecvf.com/content/ICCV2023/papers/Liu_Periodically_Exchange_Teacher-Student_for_Source-Free_Object_Detection_ICCV_2023_paper.pdf\n",
      "existed 10 \t Audio-Visual Deception Detection: DOLOS Dataset and Parameter-Efficient Crossmodal Learning \t https://openaccess.thecvf.com/content/ICCV2023/papers/Guo_Audio-Visual_Deception_Detection_DOLOS_Dataset_and_Parameter-Efficient_Crossmodal_Learning_ICCV_2023_paper.pdf\n",
      "existed 11 \t Spatial Self-Distillation for Object Detection with Inaccurate Bounding Boxes \t https://openaccess.thecvf.com/content/ICCV2023/papers/Wu_Spatial_Self-Distillation_for_Object_Detection_with_Inaccurate_Bounding_Boxes_ICCV_2023_paper.pdf\n",
      "existed 12 \t Alleviating Catastrophic Forgetting of Incremental Object Detection via Within-Class and Between-Class Knowledge Distillation \t https://openaccess.thecvf.com/content/ICCV2023/papers/Kang_Alleviating_Catastrophic_Forgetting_of_Incremental_Object_Detection_via_Within-Class_and_ICCV_2023_paper.pdf\n",
      "existed 13 \t Affine-Consistent Transformer for Multi-Class Cell Nuclei Detection \t https://openaccess.thecvf.com/content/ICCV2023/papers/Huang_Affine-Consistent_Transformer_for_Multi-Class_Cell_Nuclei_Detection_ICCV_2023_paper.pdf\n",
      "existed 14 \t A Fast Unified System for 3D Object Detection and Tracking \t https://openaccess.thecvf.com/content/ICCV2023/papers/Heitzinger_A_Fast_Unified_System_for_3D_Object_Detection_and_Tracking_ICCV_2023_paper.pdf\n",
      "existed 15 \t A Simple Vision Transformer for Weakly Semi-supervised 3D Object Detection \t https://openaccess.thecvf.com/content/ICCV2023/papers/Zhang_A_Simple_Vision_Transformer_for_Weakly_Semi-supervised_3D_Object_Detection_ICCV_2023_paper.pdf\n",
      "existed 16 \t Exploring Object-Centric Temporal Modeling for Efficient Multi-View 3D Object Detection \t https://openaccess.thecvf.com/content/ICCV2023/papers/Wang_Exploring_Object-Centric_Temporal_Modeling_for_Efficient_Multi-View_3D_Object_Detection_ICCV_2023_paper.pdf\n",
      "existed 17 \t Predict to Detect: Prediction-guided 3D Object Detection using Sequential Images \t https://openaccess.thecvf.com/content/ICCV2023/papers/Kim_Predict_to_Detect_Prediction-guided_3D_Object_Detection_using_Sequential_Images_ICCV_2023_paper.pdf\n",
      "existed 18 \t Unilaterally Aggregated Contrastive Learning with Hierarchical Augmentation for Anomaly Detection \t https://openaccess.thecvf.com/content/ICCV2023/papers/Wang_Unilaterally_Aggregated_Contrastive_Learning_with_Hierarchical_Augmentation_for_Anomaly_Detection_ICCV_2023_paper.pdf\n",
      "existed 19 \t Latent-OFER: Detect, Mask, and Reconstruct with Latent Vectors for Occluded Facial Expression Recognition \t https://openaccess.thecvf.com/content/ICCV2023/papers/Lee_Latent-OFER_Detect_Mask_and_Reconstruct_with_Latent_Vectors_for_Occluded_ICCV_2023_paper.pdf\n",
      "existed 20 \t SupFusion: Supervised LiDAR-Camera Fusion for 3D Object Detection \t https://openaccess.thecvf.com/content/ICCV2023/papers/Qin_SupFusion_Supervised_LiDAR-Camera_Fusion_for_3D_Object_Detection_ICCV_2023_paper.pdf\n",
      "existed 21 \t Unsupervised Domain Adaptive Detection with Network Stability Analysis \t https://openaccess.thecvf.com/content/ICCV2023/papers/Zhou_Unsupervised_Domain_Adaptive_Detection_with_Network_Stability_Analysis_ICCV_2023_paper.pdf\n",
      "existed 22 \t Sparse Point Guided 3D Lane Detection \t https://openaccess.thecvf.com/content/ICCV2023/papers/Yao_Sparse_Point_Guided_3D_Lane_Detection_ICCV_2023_paper.pdf\n",
      "existed 23 \t DIFFGUARD: Semantic Mismatch-Guided Out-of-Distribution Detection Using Pre-Trained Diffusion Models \t https://openaccess.thecvf.com/content/ICCV2023/papers/Gao_DIFFGUARD_Semantic_Mismatch-Guided_Out-of-Distribution_Detection_Using_Pre-Trained_Diffusion_Models_ICCV_2023_paper.pdf\n",
      "existed 24 \t CoIn: Contrastive Instance Feature Mining for Outdoor 3D Object Detection with Very Limited Annotations \t https://openaccess.thecvf.com/content/ICCV2023/papers/Xia_CoIn_Contrastive_Instance_Feature_Mining_for_Outdoor_3D_Object_Detection_ICCV_2023_paper.pdf\n",
      "existed 25 \t Agglomerative Transformer for Human-Object Interaction Detection \t https://openaccess.thecvf.com/content/ICCV2023/papers/Tu_Agglomerative_Transformer_for_Human-Object_Interaction_Detection_ICCV_2023_paper.pdf\n",
      "existed 26 \t ObjectFusion: Multi-modal 3D Object Detection with Object-Centric Fusion \t https://openaccess.thecvf.com/content/ICCV2023/papers/Cai_ObjectFusion_Multi-modal_3D_Object_Detection_with_Object-Centric_Fusion_ICCV_2023_paper.pdf\n",
      "existed 27 \t DiffTAD: Temporal Action Detection with Proposal Denoising Diffusion \t https://openaccess.thecvf.com/content/ICCV2023/papers/Nag_DiffTAD_Temporal_Action_Detection_with_Proposal_Denoising_Diffusion_ICCV_2023_paper.pdf\n",
      "existed 28 \t CLIP-Driven Universal Model for Organ Segmentation and Tumor Detection \t https://openaccess.thecvf.com/content/ICCV2023/papers/Liu_CLIP-Driven_Universal_Model_for_Organ_Segmentation_and_Tumor_Detection_ICCV_2023_paper.pdf\n",
      "existed 29 \t SHIFT3D: Synthesizing Hard Inputs For Tricking 3D Detectors \t https://openaccess.thecvf.com/content/ICCV2023/papers/Chen_SHIFT3D_Synthesizing_Hard_Inputs_For_Tricking_3D_Detectors_ICCV_2023_paper.pdf\n",
      "existed 30 \t Controllable Guide-Space for Generalizable Face Forgery Detection \t https://openaccess.thecvf.com/content/ICCV2023/papers/Guo_Controllable_Guide-Space_for_Generalizable_Face_Forgery_Detection_ICCV_2023_paper.pdf\n",
      "existed 31 \t Augmented Box Replay: Overcoming Foreground Shift for Incremental Object Detection \t https://openaccess.thecvf.com/content/ICCV2023/papers/Liu_Augmented_Box_Replay_Overcoming_Foreground_Shift_for_Incremental_Object_Detection_ICCV_2023_paper.pdf\n",
      "existed 32 \t Feature Prediction Diffusion Model for Video Anomaly Detection \t https://openaccess.thecvf.com/content/ICCV2023/papers/Yan_Feature_Prediction_Diffusion_Model_for_Video_Anomaly_Detection_ICCV_2023_paper.pdf\n",
      "existed 33 \t DIRE for Diffusion-Generated Image Detection \t https://openaccess.thecvf.com/content/ICCV2023/papers/Wang_DIRE_for_Diffusion-Generated_Image_Detection_ICCV_2023_paper.pdf\n",
      "existed 34 \t FeatEnHancer: Enhancing Hierarchical Features for Object Detection and Beyond Under Low-Light Vision \t https://openaccess.thecvf.com/content/ICCV2023/papers/Hashmi_FeatEnHancer_Enhancing_Hierarchical_Features_for_Object_Detection_and_Beyond_Under_ICCV_2023_paper.pdf\n",
      "existed 35 \t Unsupervised Surface Anomaly Detection with Diffusion Probabilistic Model \t https://openaccess.thecvf.com/content/ICCV2023/papers/Zhang_Unsupervised_Surface_Anomaly_Detection_with_Diffusion_Probabilistic_Model_ICCV_2023_paper.pdf\n",
      "existed 36 \t KECOR: Kernel Coding Rate Maximization for Active 3D Object Detection \t https://openaccess.thecvf.com/content/ICCV2023/papers/Luo_KECOR_Kernel_Coding_Rate_Maximization_for_Active_3D_Object_Detection_ICCV_2023_paper.pdf\n",
      "existed 37 \t Representation Disparity-aware Distillation for 3D Object Detection \t https://openaccess.thecvf.com/content/ICCV2023/papers/Li_Representation_Disparity-aware_Distillation_for_3D_Object_Detection_ICCV_2023_paper.pdf\n",
      "existed 38 \t ASAG: Building Strong One-Decoder-Layer Sparse Detectors via Adaptive Sparse Anchor Generation \t https://openaccess.thecvf.com/content/ICCV2023/papers/Fu_ASAG_Building_Strong_One-Decoder-Layer_Sparse_Detectors_via_Adaptive_Sparse_Anchor_ICCV_2023_paper.pdf\n",
      "existed 39 \t SA-BEV: Generating Semantic-Aware Bird's-Eye-View Feature for Multi-view 3D Object Detection \t https://openaccess.thecvf.com/content/ICCV2023/papers/Zhang_SA-BEV_Generating_Semantic-Aware_Birds-Eye-View_Feature_for_Multi-view_3D_Object_Detection_ICCV_2023_paper.pdf\n",
      "existed 40 \t PG-RCNN: Semantic Surface Point Generation for 3D Object Detection \t https://openaccess.thecvf.com/content/ICCV2023/papers/Koo_PG-RCNN_Semantic_Surface_Point_Generation_for_3D_Object_Detection_ICCV_2023_paper.pdf\n",
      "existed 41 \t Cross Modal Transformer: Towards Fast and Robust 3D Object Detection \t https://openaccess.thecvf.com/content/ICCV2023/papers/Yan_Cross_Modal_Transformer_Towards_Fast_and_Robust_3D_Object_Detection_ICCV_2023_paper.pdf\n",
      "existed 42 \t Meta-ZSDETR: Zero-shot DETR with Meta-learning \t https://openaccess.thecvf.com/content/ICCV2023/papers/Zhang_Meta-ZSDETR_Zero-shot_DETR_with_Meta-learning_ICCV_2023_paper.pdf\n",
      "existed 43 \t SparseFusion: Fusing Multi-Modal Sparse Representations for Multi-Sensor 3D Object Detection \t https://openaccess.thecvf.com/content/ICCV2023/papers/Xie_SparseFusion_Fusing_Multi-Modal_Sparse_Representations_for_Multi-Sensor_3D_Object_Detection_ICCV_2023_paper.pdf\n",
      "existed 44 \t Quality-Agnostic Deepfake Detection with Intra-model Collaborative Learning \t https://openaccess.thecvf.com/content/ICCV2023/papers/Le_Quality-Agnostic_Deepfake_Detection_with_Intra-model_Collaborative_Learning_ICCV_2023_paper.pdf\n",
      "existed 45 \t Understanding the Feature Norm for Out-of-Distribution Detection \t https://openaccess.thecvf.com/content/ICCV2023/papers/Park_Understanding_the_Feature_Norm_for_Out-of-Distribution_Detection_ICCV_2023_paper.pdf\n",
      "existed 46 \t DetZero: Rethinking Offboard 3D Object Detection with Long-term Sequential Point Clouds \t https://openaccess.thecvf.com/content/ICCV2023/papers/Ma_DetZero_Rethinking_Offboard_3D_Object_Detection_with_Long-term_Sequential_Point_ICCV_2023_paper.pdf\n",
      "existed 47 \t Learning from Noisy Data for Semi-Supervised 3D Object Detection \t https://openaccess.thecvf.com/content/ICCV2023/papers/Chen_Learning_from_Noisy_Data_for_Semi-Supervised_3D_Object_Detection_ICCV_2023_paper.pdf\n",
      "existed 48 \t MonoDETR: Depth-guided Transformer for Monocular 3D Object Detection \t https://openaccess.thecvf.com/content/ICCV2023/papers/Zhang_MonoDETR_Depth-guided_Transformer_for_Monocular_3D_Object_Detection_ICCV_2023_paper.pdf\n",
      "existed 49 \t Group DETR: Fast DETR Training with Group-Wise One-to-Many Assignment \t https://openaccess.thecvf.com/content/ICCV2023/papers/Chen_Group_DETR_Fast_DETR_Training_with_Group-Wise_One-to-Many_Assignment_ICCV_2023_paper.pdf\n",
      "existed 50 \t DETRs with Collaborative Hybrid Assignments Training \t https://openaccess.thecvf.com/content/ICCV2023/papers/Zong_DETRs_with_Collaborative_Hybrid_Assignments_Training_ICCV_2023_paper.pdf\n",
      "existed 51 \t MonoNeRD: NeRF-like Representations for Monocular 3D Object Detection \t https://openaccess.thecvf.com/content/ICCV2023/papers/Xu_MonoNeRD_NeRF-like_Representations_for_Monocular_3D_Object_Detection_ICCV_2023_paper.pdf\n",
      "existed 52 \t Monocular 3D Object Detection with Bounding Box Denoising in 3D by Perceiver \t https://openaccess.thecvf.com/content/ICCV2023/papers/Liu_Monocular_3D_Object_Detection_with_Bounding_Box_Denoising_in_3D_ICCV_2023_paper.pdf\n",
      "existed 53 \t PNI : Industrial Anomaly Detection using Position and Neighborhood Information \t https://openaccess.thecvf.com/content/ICCV2023/papers/Bae_PNI__Industrial_Anomaly_Detection_using_Position_and_Neighborhood_Information_ICCV_2023_paper.pdf\n",
      "existed 54 \t 2D3D-MATR: 2D-3D Matching Transformer for Detection-Free Registration Between Images and Point Clouds \t https://openaccess.thecvf.com/content/ICCV2023/papers/Li_2D3D-MATR_2D-3D_Matching_Transformer_for_Detection-Free_Registration_Between_Images_and_ICCV_2023_paper.pdf\n",
      "existed 55 \t Harvard Glaucoma Detection and Progression: A Multimodal Multitask Dataset and Generalization-Reinforced Semi-Supervised Learning \t https://openaccess.thecvf.com/content/ICCV2023/papers/Luo_Harvard_Glaucoma_Detection_and_Progression_A_Multimodal_Multitask_Dataset_and_ICCV_2023_paper.pdf\n",
      "existed 56 \t Objects Do Not Disappear: Video Object Detection by Single-Frame Object Location Anticipation \t https://openaccess.thecvf.com/content/ICCV2023/papers/Liu_Objects_Do_Not_Disappear_Video_Object_Detection_by_Single-Frame_Object_ICCV_2023_paper.pdf\n",
      "existed 57 \t Exploring Predicate Visual Context in Detecting of Human-Object Interactions \t https://openaccess.thecvf.com/content/ICCV2023/papers/Zhang_Exploring_Predicate_Visual_Context_in_Detecting_of_Human-Object_Interactions_ICCV_2023_paper.pdf\n",
      "existed 58 \t Gradient-based Sampling for Class Imbalanced Semi-supervised Object Detection \t https://openaccess.thecvf.com/content/ICCV2023/papers/Li_Gradient-based_Sampling_for_Class_Imbalanced_Semi-supervised_Object_Detection_ICCV_2023_paper.pdf\n",
      "existed 59 \t Pixel-Aligned Recurrent Queries for Multi-View 3D Object Detection \t https://openaccess.thecvf.com/content/ICCV2023/papers/Xie_Pixel-Aligned_Recurrent_Queries_for_Multi-View_3D_Object_Detection_ICCV_2023_paper.pdf\n",
      "existed 60 \t MetaBEV: Solving Sensor Failures for 3D Detection and Map Segmentation \t https://openaccess.thecvf.com/content/ICCV2023/papers/Ge_MetaBEV_Solving_Sensor_Failures_for_3D_Detection_and_Map_Segmentation_ICCV_2023_paper.pdf\n",
      "existed 61 \t MiniROAD: Minimal RNN Framework for Online Action Detection \t https://openaccess.thecvf.com/content/ICCV2023/papers/An_MiniROAD_Minimal_RNN_Framework_for_Online_Action_Detection_ICCV_2023_paper.pdf\n",
      "existed 62 \t Object-aware Gaze Target Detection \t https://openaccess.thecvf.com/content/ICCV2023/papers/Tonini_Object-aware_Gaze_Target_Detection_ICCV_2023_paper.pdf\n",
      "existed 63 \t Normalizing Flows for Human Pose Anomaly Detection \t https://openaccess.thecvf.com/content/ICCV2023/papers/Hirschorn_Normalizing_Flows_for_Human_Pose_Anomaly_Detection_ICCV_2023_paper.pdf\n",
      "existed 64 \t Nearest Neighbor Guidance for Out-of-Distribution Detection \t https://openaccess.thecvf.com/content/ICCV2023/papers/Park_Nearest_Neighbor_Guidance_for_Out-of-Distribution_Detection_ICCV_2023_paper.pdf\n",
      "existed 65 \t Open-Vocabulary Object Detection With an Open Corpus \t https://openaccess.thecvf.com/content/ICCV2023/papers/Wang_Open-Vocabulary_Object_Detection_With_an_Open_Corpus_ICCV_2023_paper.pdf\n",
      "existed 66 \t Meta OOD Learning For Continuously Adaptive OOD Detection \t https://openaccess.thecvf.com/content/ICCV2023/papers/Wu_Meta_OOD_Learning_For_Continuously_Adaptive_OOD_Detection_ICCV_2023_paper.pdf\n",
      "existed 67 \t LATR: 3D Lane Detection from Monocular Images with Transformer \t https://openaccess.thecvf.com/content/ICCV2023/papers/Luo_LATR_3D_Lane_Detection_from_Monocular_Images_with_Transformer_ICCV_2023_paper.pdf\n",
      "existed 68 \t Anchor-Intermediate Detector: Decoupling and Coupling Bounding Boxes for Accurate Object Detection \t https://openaccess.thecvf.com/content/ICCV2023/papers/Lv_Anchor-Intermediate_Detector_Decoupling_and_Coupling_Bounding_Boxes_for_Accurate_Object_ICCV_2023_paper.pdf\n",
      "existed 69 \t SAFE: Sensitivity-Aware Features for Out-of-Distribution Object Detection \t https://openaccess.thecvf.com/content/ICCV2023/papers/Wilson_SAFE_Sensitivity-Aware_Features_for_Out-of-Distribution_Object_Detection_ICCV_2023_paper.pdf\n",
      "existed 70 \t Decoupled DETR: Spatially Disentangling Localization and Classification for Improved End-to-End Object Detection \t https://openaccess.thecvf.com/content/ICCV2023/papers/Zhang_Decoupled_DETR_Spatially_Disentangling_Localization_and_Classification_for_Improved_End-to-End_ICCV_2023_paper.pdf\n",
      "existed 71 \t AlignDet: Aligning Pre-training and Fine-tuning in Object Detection \t https://openaccess.thecvf.com/content/ICCV2023/papers/Li_AlignDet_Aligning_Pre-training_and_Fine-tuning_in_Object_Detection_ICCV_2023_paper.pdf\n",
      "existed 72 \t FemtoDet: An Object Detection Baseline for Energy Versus Performance Tradeoffs \t https://openaccess.thecvf.com/content/ICCV2023/papers/Tu_FemtoDet_An_Object_Detection_Baseline_for_Energy_Versus_Performance_Tradeoffs_ICCV_2023_paper.pdf\n",
      "existed 73 \t A Simple Framework for Open-Vocabulary Segmentation and Detection \t https://openaccess.thecvf.com/content/ICCV2023/papers/Zhang_A_Simple_Framework_for_Open-Vocabulary_Segmentation_and_Detection_ICCV_2023_paper.pdf\n",
      "existed 74 \t Deep Directly-Trained Spiking Neural Networks for Object Detection \t https://openaccess.thecvf.com/content/ICCV2023/papers/Su_Deep_Directly-Trained_Spiking_Neural_Networks_for_Object_Detection_ICCV_2023_paper.pdf\n",
      "existed 75 \t Residual Pattern Learning for Pixel-Wise Out-of-Distribution Detection in Semantic Segmentation \t https://openaccess.thecvf.com/content/ICCV2023/papers/Liu_Residual_Pattern_Learning_for_Pixel-Wise_Out-of-Distribution_Detection_in_Semantic_Segmentation_ICCV_2023_paper.pdf\n",
      "existed 76 \t Unified Out-Of-Distribution Detection: A Model-Specific Perspective \t https://openaccess.thecvf.com/content/ICCV2023/papers/Averly_Unified_Out-Of-Distribution_Detection_A_Model-Specific_Perspective_ICCV_2023_paper.pdf\n",
      "existed 77 \t Clutter Detection and Removal in 3D Scenes with View-Consistent Inpainting \t https://openaccess.thecvf.com/content/ICCV2023/papers/Wei_Clutter_Detection_and_Removal_in_3D_Scenes_with_View-Consistent_Inpainting_ICCV_2023_paper.pdf\n",
      "existed 78 \t Clusterformer: Cluster-based Transformer for 3D Object Detection in Point Clouds \t https://openaccess.thecvf.com/content/ICCV2023/papers/Pei_Clusterformer_Cluster-based_Transformer_for_3D_Object_Detection_in_Point_Clouds_ICCV_2023_paper.pdf\n",
      "existed 79 \t Adaptive Illumination Mapping for Shadow Detection in Raw Images \t https://openaccess.thecvf.com/content/ICCV2023/papers/Sun_Adaptive_Illumination_Mapping_for_Shadow_Detection_in_Raw_Images_ICCV_2023_paper.pdf\n",
      "existed 80 \t CLIPN for Zero-Shot OOD Detection: Teaching CLIP to Say No \t https://openaccess.thecvf.com/content/ICCV2023/papers/Wang_CLIPN_for_Zero-Shot_OOD_Detection_Teaching_CLIP_to_Say_No_ICCV_2023_paper.pdf\n",
      "existed 81 \t EdaDet: Open-Vocabulary Object Detection Using Early Dense Alignment \t https://openaccess.thecvf.com/content/ICCV2023/papers/Shi_EdaDet_Open-Vocabulary_Object_Detection_Using_Early_Dense_Alignment_ICCV_2023_paper.pdf\n",
      "existed 82 \t Revisiting Domain-Adaptive 3D Object Detection by Reliable, Diverse and Class-balanced Pseudo-Labeling \t https://openaccess.thecvf.com/content/ICCV2023/papers/Chen_Revisiting_Domain-Adaptive_3D_Object_Detection_by_Reliable_Diverse_and_Class-balanced_ICCV_2023_paper.pdf\n",
      "existed 83 \t Efficient Adaptive Human-Object Interaction Detection with Concept-guided Memory \t https://openaccess.thecvf.com/content/ICCV2023/papers/Lei_Efficient_Adaptive_Human-Object_Interaction_Detection_with_Concept-guided_Memory_ICCV_2023_paper.pdf\n",
      "existed 84 \t MapFormer: Boosting Change Detection by Using Pre-change Information \t https://openaccess.thecvf.com/content/ICCV2023/papers/Bernhard_MapFormer_Boosting_Change_Detection_by_Using_Pre-change_Information_ICCV_2023_paper.pdf\n",
      "existed 85 \t Once Detected, Never Lost: Surpassing Human Performance in Offline LiDAR based 3D Object Detection \t https://openaccess.thecvf.com/content/ICCV2023/papers/Fan_Once_Detected_Never_Lost_Surpassing_Human_Performance_in_Offline_LiDAR_ICCV_2023_paper.pdf\n",
      "existed 86 \t ALWOD: Active Learning for Weakly-Supervised Object Detection \t https://openaccess.thecvf.com/content/ICCV2023/papers/Wang_ALWOD_Active_Learning_for_Weakly-Supervised_Object_Detection_ICCV_2023_paper.pdf\n",
      "existed 87 \t Simple and Effective Out-of-Distribution Detection via Cosine-based Softmax Loss \t https://openaccess.thecvf.com/content/ICCV2023/papers/Noh_Simple_and_Effective_Out-of-Distribution_Detection_via_Cosine-based_Softmax_Loss_ICCV_2023_paper.pdf\n",
      "existed 88 \t Anomaly Detection using Score-based Perturbation Resilience \t https://openaccess.thecvf.com/content/ICCV2023/papers/Shin_Anomaly_Detection_using_Score-based_Perturbation_Resilience_ICCV_2023_paper.pdf\n",
      "existed 89 \t DETR Does Not Need Multi-Scale or Locality Design \t https://openaccess.thecvf.com/content/ICCV2023/papers/Lin_DETR_Does_Not_Need_Multi-Scale_or_Locality_Design_ICCV_2023_paper.pdf\n",
      "existed 90 \t Masked Retraining Teacher-Student Framework for Domain Adaptive Object Detection \t https://openaccess.thecvf.com/content/ICCV2023/papers/Zhao_Masked_Retraining_Teacher-Student_Framework_for_Domain_Adaptive_Object_Detection_ICCV_2023_paper.pdf\n",
      "existed 91 \t Object as Query: Lifting Any 2D Object Detector to 3D Detection \t https://openaccess.thecvf.com/content/ICCV2023/papers/Wang_Object_as_Query_Lifting_Any_2D_Object_Detector_to_3D_ICCV_2023_paper.pdf\n",
      "existed 92 \t FS-DETR: Few-Shot DEtection TRansformer with Prompting and without Re-Training \t https://openaccess.thecvf.com/content/ICCV2023/papers/Bulat_FS-DETR_Few-Shot_DEtection_TRansformer_with_Prompting_and_without_Re-Training_ICCV_2023_paper.pdf\n",
      "existed 93 \t Multimodal Motion Conditioned Diffusion Model for Skeleton-based Video Anomaly Detection \t https://openaccess.thecvf.com/content/ICCV2023/papers/Flaborea_Multimodal_Motion_Conditioned_Diffusion_Model_for_Skeleton-based_Video_Anomaly_Detection_ICCV_2023_paper.pdf\n",
      "existed 94 \t Weakly-Supervised Action Segmentation and Unseen Error Detection in Anomalous Instructional Videos \t https://openaccess.thecvf.com/content/ICCV2023/papers/Ghoddoosian_Weakly-Supervised_Action_Segmentation_and_Unseen_Error_Detection_in_Anomalous_Instructional_ICCV_2023_paper.pdf\n",
      "existed 95 \t Deep Feature Deblurring Diffusion for Detecting Out-of-Distribution Objects \t https://openaccess.thecvf.com/content/ICCV2023/papers/Wu_Deep_Feature_Deblurring_Diffusion_for_Detecting_Out-of-Distribution_Objects_ICCV_2023_paper.pdf\n",
      "existed 96 \t Generating Dynamic Kernels via Transformers for Lane Detection \t https://openaccess.thecvf.com/content/ICCV2023/papers/Chen_Generating_Dynamic_Kernels_via_Transformers_for_Lane_Detection_ICCV_2023_paper.pdf\n",
      "existed 97 \t Boosting Long-tailed Object Detection via Step-wise Learning on Smooth-tail Data \t https://openaccess.thecvf.com/content/ICCV2023/papers/Dong_Boosting_Long-tailed_Object_Detection_via_Step-wise_Learning_on_Smooth-tail_Data_ICCV_2023_paper.pdf\n",
      "existed 98 \t Remembering Normality: Memory-guided Knowledge Distillation for Unsupervised Anomaly Detection \t https://openaccess.thecvf.com/content/ICCV2023/papers/Gu_Remembering_Normality_Memory-guided_Knowledge_Distillation_for_Unsupervised_Anomaly_Detection_ICCV_2023_paper.pdf\n",
      "existed 99 \t TeD-SPAD: Temporal Distinctiveness for Self-Supervised Privacy-Preservation for Video Anomaly Detection \t https://openaccess.thecvf.com/content/ICCV2023/papers/Fioresi_TeD-SPAD_Temporal_Distinctiveness_for_Self-Supervised_Privacy-Preservation_for_Video_Anomaly_Detection_ICCV_2023_paper.pdf\n",
      "existed 100 \t Bridging Cross-task Protocol Inconsistency for Distillation in Dense Object Detection \t https://openaccess.thecvf.com/content/ICCV2023/papers/Yang_Bridging_Cross-task_Protocol_Inconsistency_for_Distillation_in_Dense_Object_Detection_ICCV_2023_paper.pdf\n",
      "existed 101 \t Adaptive Rotated Convolution for Rotated Object Detection \t https://openaccess.thecvf.com/content/ICCV2023/papers/Pu_Adaptive_Rotated_Convolution_for_Rotated_Object_Detection_ICCV_2023_paper.pdf\n",
      "existed 102 \t Revisit PCA-based Technique for Out-of-Distribution Detection \t https://openaccess.thecvf.com/content/ICCV2023/papers/Guan_Revisit_PCA-based_Technique_for_Out-of-Distribution_Detection_ICCV_2023_paper.pdf\n",
      "existed 103 \t FishNet: A Large-scale Dataset and Benchmark for Fish Recognition, Detection, and Functional Trait Prediction \t https://openaccess.thecvf.com/content/ICCV2023/papers/Khan_FishNet_A_Large-scale_Dataset_and_Benchmark_for_Fish_Recognition_Detection_ICCV_2023_paper.pdf\n",
      "existed 104 \t Template-guided Hierarchical Feature Restoration for Anomaly Detection \t https://openaccess.thecvf.com/content/ICCV2023/papers/Guo_Template-guided_Hierarchical_Feature_Restoration_for_Anomaly_Detection_ICCV_2023_paper.pdf\n",
      "existed 105 \t UpCycling: Semi-supervised 3D Object Detection without Sharing Raw-level Unlabeled Scenes \t https://openaccess.thecvf.com/content/ICCV2023/papers/Hwang_UpCycling_Semi-supervised_3D_Object_Detection_without_Sharing_Raw-level_Unlabeled_Scenes_ICCV_2023_paper.pdf\n",
      "existed 106 \t CSDA: Learning Category-Scale Joint Feature for Domain Adaptive Object Detection \t https://openaccess.thecvf.com/content/ICCV2023/papers/Gao_CSDA_Learning_Category-Scale_Joint_Feature_for_Domain_Adaptive_Object_Detection_ICCV_2023_paper.pdf\n",
      "existed 107 \t s-Adaptive Decoupled Prototype for Few-Shot Object Detection \t https://openaccess.thecvf.com/content/ICCV2023/papers/Du_s-Adaptive_Decoupled_Prototype_for_Few-Shot_Object_Detection_ICCV_2023_paper.pdf\n",
      "existed 108 \t Distilling DETR with Visual-Linguistic Knowledge for Open-Vocabulary Object Detection \t https://openaccess.thecvf.com/content/ICCV2023/papers/Li_Distilling_DETR_with_Visual-Linguistic_Knowledge_for_Open-Vocabulary_Object_Detection_ICCV_2023_paper.pdf\n",
      "existed 109 \t Efficient Video Action Detection with Token Dropout and Context Refinement \t https://openaccess.thecvf.com/content/ICCV2023/papers/Chen_Efficient_Video_Action_Detection_with_Token_Dropout_and_Context_Refinement_ICCV_2023_paper.pdf\n",
      "existed 110 \t Identity-Consistent Aggregation for Video Object Detection \t https://openaccess.thecvf.com/content/ICCV2023/papers/Deng_Identity-Consistent_Aggregation_for_Video_Object_Detection_ICCV_2023_paper.pdf\n",
      "existed 111 \t Ego-Only: Egocentric Action Detection without Exocentric Transferring \t https://openaccess.thecvf.com/content/ICCV2023/papers/Wang_Ego-Only_Egocentric_Action_Detection_without_Exocentric_Transferring_ICCV_2023_paper.pdf\n",
      "existed 112 \t CancerUniT: Towards a Single Unified Model for Effective Detection, Segmentation, and Diagnosis of Eight Major Cancers Using a Large Collection of CT Scans \t https://openaccess.thecvf.com/content/ICCV2023/papers/Chen_CancerUniT_Towards_a_Single_Unified_Model_for_Effective_Detection_Segmentation_ICCV_2023_paper.pdf\n",
      "existed 113 \t Deep Equilibrium Object Detection \t https://openaccess.thecvf.com/content/ICCV2023/papers/Wang_Deep_Equilibrium_Object_Detection_ICCV_2023_paper.pdf\n",
      "existed 114 \t DETRDistill: A Universal Knowledge Distillation Framework for DETR-families \t https://openaccess.thecvf.com/content/ICCV2023/papers/Chang_DETRDistill_A_Universal_Knowledge_Distillation_Framework_for_DETR-families_ICCV_2023_paper.pdf\n",
      "existed 115 \t COCO-O: A Benchmark for Object Detectors under Natural Distribution Shifts \t https://openaccess.thecvf.com/content/ICCV2023/papers/Mao_COCO-O_A_Benchmark_for_Object_Detectors_under_Natural_Distribution_Shifts_ICCV_2023_paper.pdf\n",
      "existed 116 \t StageInteractor: Query-based Object Detector with Cross-stage Interaction \t https://openaccess.thecvf.com/content/ICCV2023/papers/Teng_StageInteractor_Query-based_Object_Detector_with_Cross-stage_Interaction_ICCV_2023_paper.pdf\n",
      "existed 117 \t Moment Detection in Long Tutorial Videos \t https://openaccess.thecvf.com/content/ICCV2023/papers/Croitoru_Moment_Detection_in_Long_Tutorial_Videos_ICCV_2023_paper.pdf\n",
      "existed 118 \t Uncertainty-guided Learning for Improving Image Manipulation Detection \t https://openaccess.thecvf.com/content/ICCV2023/papers/Ji_Uncertainty-guided_Learning_for_Improving_Image_Manipulation_Detection_ICCV_2023_paper.pdf\n",
      "existed 119 \t Unsupervised Prompt Tuning for Text-Driven Object Detection \t https://openaccess.thecvf.com/content/ICCV2023/papers/He_Unsupervised_Prompt_Tuning_for_Text-Driven_Object_Detection_ICCV_2023_paper.pdf\n",
      "existed 120 \t GACE: Geometry Aware Confidence Enhancement for Black-Box 3D Object Detectors on LiDAR-Data \t https://openaccess.thecvf.com/content/ICCV2023/papers/Schinagl_GACE_Geometry_Aware_Confidence_Enhancement_for_Black-Box_3D_Object_Detectors_ICCV_2023_paper.pdf\n",
      "existed 121 \t Video Anomaly Detection via Sequentially Learning Multiple Pretext Tasks \t https://openaccess.thecvf.com/content/ICCV2023/papers/Shi_Video_Anomaly_Detection_via_Sequentially_Learning_Multiple_Pretext_Tasks_ICCV_2023_paper.pdf\n",
      "existed 122 \t UCF: Uncovering Common Features for Generalizable Deepfake Detection \t https://openaccess.thecvf.com/content/ICCV2023/papers/Yan_UCF_Uncovering_Common_Features_for_Generalizable_Deepfake_Detection_ICCV_2023_paper.pdf\n",
      "existed 123 \t Novel Scenes & Classes: Towards Adaptive Open-set Object Detection \t https://openaccess.thecvf.com/content/ICCV2023/papers/Li_Novel_Scenes__Classes_Towards_Adaptive_Open-set_Object_Detection_ICCV_2023_paper.pdf\n",
      "existed 124 \t RecursiveDet: End-to-End Region-Based Recursive Object Detection \t https://openaccess.thecvf.com/content/ICCV2023/papers/Zhao_RecursiveDet_End-to-End_Region-Based_Recursive_Object_Detection_ICCV_2023_paper.pdf\n",
      "existed 125 \t Detection Transformer with Stable Matching \t https://openaccess.thecvf.com/content/ICCV2023/papers/Liu_Detection_Transformer_with_Stable_Matching_ICCV_2023_paper.pdf\n",
      "existed 126 \t Beyond the Limitation of Monocular 3D Detector via Knowledge Distillation \t https://openaccess.thecvf.com/content/ICCV2023/papers/Yang_Beyond_the_Limitation_of_Monocular_3D_Detector_via_Knowledge_Distillation_ICCV_2023_paper.pdf\n",
      "existed 127 \t Cascade-DETR: Delving into High-Quality Universal Object Detection \t https://openaccess.thecvf.com/content/ICCV2023/papers/Ye_Cascade-DETR_Delving_into_High-Quality_Universal_Object_Detection_ICCV_2023_paper.pdf\n",
      "existed 128 \t QD-BEV : Quantization-aware View-guided Distillation for Multi-view 3D Object Detection \t https://openaccess.thecvf.com/content/ICCV2023/papers/Zhang_QD-BEV__Quantization-aware_View-guided_Distillation_for_Multi-view_3D_Object_Detection_ICCV_2023_paper.pdf\n",
      "existed 129 \t Large Selective Kernel Network for Remote Sensing Object Detection \t https://openaccess.thecvf.com/content/ICCV2023/papers/Li_Large_Selective_Kernel_Network_for_Remote_Sensing_Object_Detection_ICCV_2023_paper.pdf\n",
      "existed 130 \t SILT: Shadow-Aware Iterative Label Tuning for Learning to Detect Shadows from Noisy Labels \t https://openaccess.thecvf.com/content/ICCV2023/papers/Yang_SILT_Shadow-Aware_Iterative_Label_Tuning_for_Learning_to_Detect_Shadows_ICCV_2023_paper.pdf\n",
      "existed 131 \t WDiscOOD: Out-of-Distribution Detection via Whitened Linear Discriminant Analysis \t https://openaccess.thecvf.com/content/ICCV2023/papers/Chen_WDiscOOD_Out-of-Distribution_Detection_via_Whitened_Linear_Discriminant_Analysis_ICCV_2023_paper.pdf\n",
      "existed 132 \t Self-supervised Pre-training for Mirror Detection \t https://openaccess.thecvf.com/content/ICCV2023/papers/Lin_Self-supervised_Pre-training_for_Mirror_Detection_ICCV_2023_paper.pdf\n",
      "existed 133 \t Less is More: Focus Attention for Efficient DETR \t https://openaccess.thecvf.com/content/ICCV2023/papers/Zheng_Less_is_More_Focus_Attention_for_Efficient_DETR_ICCV_2023_paper.pdf\n",
      "existed 134 \t Small Object Detection via Coarse-to-fine Proposal Generation and Imitation Learning \t https://openaccess.thecvf.com/content/ICCV2023/papers/Yuan_Small_Object_Detection_via_Coarse-to-fine_Proposal_Generation_and_Imitation_Learning_ICCV_2023_paper.pdf\n",
      "existed 135 \t Anomaly Detection Under Distribution Shift \t https://openaccess.thecvf.com/content/ICCV2023/papers/Cao_Anomaly_Detection_Under_Distribution_Shift_ICCV_2023_paper.pdf\n",
      "existed 136 \t Self-Feedback DETR for Temporal Action Detection \t https://openaccess.thecvf.com/content/ICCV2023/papers/Kim_Self-Feedback_DETR_for_Temporal_Action_Detection_ICCV_2023_paper.pdf\n",
      "existed 137 \t ImGeoNet: Image-induced Geometry-aware Voxel Representation for Multi-view 3D Object Detection \t https://openaccess.thecvf.com/content/ICCV2023/papers/Tu_ImGeoNet_Image-induced_Geometry-aware_Voxel_Representation_for_Multi-view_3D_Object_Detection_ICCV_2023_paper.pdf\n",
      "existed 138 \t Large-Scale Person Detection and Localization Using Overhead Fisheye Cameras \t https://openaccess.thecvf.com/content/ICCV2023/papers/Yang_Large-Scale_Person_Detection_and_Localization_Using_Overhead_Fisheye_Cameras_ICCV_2023_paper.pdf\n",
      "existed 139 \t FocalFormer3D: Focusing on Hard Instance for 3D Object Detection \t https://openaccess.thecvf.com/content/ICCV2023/papers/Chen_FocalFormer3D_Focusing_on_Hard_Instance_for_3D_Object_Detection_ICCV_2023_paper.pdf\n",
      "existed 140 \t Parametric Depth Based Feature Representation Learning for Object Detection and Segmentation in Bird's-Eye View \t https://openaccess.thecvf.com/content/ICCV2023/papers/Yang_Parametric_Depth_Based_Feature_Representation_Learning_for_Object_Detection_and_ICCV_2023_paper.pdf\n",
      "existed 141 \t Integrally Migrating Pre-trained Transformer Encoder-decoders for Visual Object Detection \t https://openaccess.thecvf.com/content/ICCV2023/papers/Liu_Integrally_Migrating_Pre-trained_Transformer_Encoder-decoders_for_Visual_Object_Detection_ICCV_2023_paper.pdf\n",
      "existed 142 \t Recursive Video Lane Detection \t https://openaccess.thecvf.com/content/ICCV2023/papers/Jin_Recursive_Video_Lane_Detection_ICCV_2023_paper.pdf\n",
      "existed 143 \t Towards Fair and Comprehensive Comparisons for Image-Based 3D Object Detection \t https://openaccess.thecvf.com/content/ICCV2023/papers/Ma_Towards_Fair_and_Comprehensive_Comparisons_for_Image-Based_3D_Object_Detection_ICCV_2023_paper.pdf\n",
      "existed 144 \t V3Det: Vast Vocabulary Visual Detection Dataset \t https://openaccess.thecvf.com/content/ICCV2023/papers/Wang_V3Det_Vast_Vocabulary_Visual_Detection_Dataset_ICCV_2023_paper.pdf\n",
      "existed 145 \t Random Boxes Are Open-world Object Detectors \t https://openaccess.thecvf.com/content/ICCV2023/papers/Wang_Random_Boxes_Are_Open-world_Object_Detectors_ICCV_2023_paper.pdf\n",
      "existed 146 \t Reconciling Object-Level and Global-Level Objectives for Long-Tail Detection \t https://openaccess.thecvf.com/content/ICCV2023/papers/Zhang_Reconciling_Object-Level_and_Global-Level_Objectives_for_Long-Tail_Detection_ICCV_2023_paper.pdf\n",
      "existed 147 \t OmniLabel: A Challenging Benchmark for Language-Based Object Detection \t https://openaccess.thecvf.com/content/ICCV2023/papers/Schulter_OmniLabel_A_Challenging_Benchmark_for_Language-Based_Object_Detection_ICCV_2023_paper.pdf\n",
      "148 \t FastRecon: Few-shot Industrial Anomaly Detection via Fast Feature Reconstruction \t https://openaccess.thecvf.com/content/ICCV2023/papers/Fang_FastRecon_Few-shot_Industrial_Anomaly_Detection_via_Fast_Feature_Reconstruction_ICCV_2023_paper.pdf\n"
     ]
    },
    {
     "name": "stdout",
     "output_type": "stream",
     "text": [
      "149 \t DistillBEV: Boosting Multi-Camera 3D Object Detection with Cross-Modal Knowledge Distillation \t https://openaccess.thecvf.com/content/ICCV2023/papers/Wang_DistillBEV_Boosting_Multi-Camera_3D_Object_Detection_with_Cross-Modal_Knowledge_Distillation_ICCV_2023_paper.pdf\n",
      "150 \t Detecting Objects with Context-Likelihood Graphs and Graph Refinement \t https://openaccess.thecvf.com/content/ICCV2023/papers/Bhowmik_Detecting_Objects_with_Context-Likelihood_Graphs_and_Graph_Refinement_ICCV_2023_paper.pdf\n",
      "151 \t Self-Supervised Object Detection from Egocentric Videos \t https://openaccess.thecvf.com/content/ICCV2023/papers/Akiva_Self-Supervised_Object_Detection_from_Egocentric_Videos_ICCV_2023_paper.pdf\n",
      "152 \t NeSS-ST: Detecting Good and Stable Keypoints with a Neural Stability Score and the Shi-Tomasi detector \t https://openaccess.thecvf.com/content/ICCV2023/papers/Pakulev_NeSS-ST_Detecting_Good_and_Stable_Keypoints_with_a_Neural_Stability_ICCV_2023_paper.pdf\n",
      "153 \t Rethinking Pose Estimation in Crowds: Overcoming the Detection Information Bottleneck and Ambiguity \t https://openaccess.thecvf.com/content/ICCV2023/papers/Zhou_Rethinking_Pose_Estimation_in_Crowds_Overcoming_the_Detection_Information_Bottleneck_ICCV_2023_paper.pdf\n",
      "154 \t Towards Universal LiDAR-Based 3D Object Detection by Multi-Domain Knowledge Transfer \t https://openaccess.thecvf.com/content/ICCV2023/papers/Wu_Towards_Universal_LiDAR-Based_3D_Object_Detection_by_Multi-Domain_Knowledge_Transfer_ICCV_2023_paper.pdf\n",
      "155 \t SparseBEV: High-Performance Sparse 3D Object Detection from Multi-Camera Videos \t https://openaccess.thecvf.com/content/ICCV2023/papers/Liu_SparseBEV_High-Performance_Sparse_3D_Object_Detection_from_Multi-Camera_Videos_ICCV_2023_paper.pdf\n",
      "156 \t PolicyCleanse: Backdoor Detection and Mitigation for Competitive Reinforcement Learning \t https://openaccess.thecvf.com/content/ICCV2023/papers/Guo_PolicyCleanse_Backdoor_Detection_and_Mitigation_for_Competitive_Reinforcement_Learning_ICCV_2023_paper.pdf\n",
      "157 \t Multimodal High-order Relation Transformer for Scene Boundary Detection \t https://openaccess.thecvf.com/content/ICCV2023/papers/Wei_Multimodal_High-order_Relation_Transformer_for_Scene_Boundary_Detection_ICCV_2023_paper.pdf\n",
      "158 \t LaRS: A Diverse Panoptic Maritime Obstacle Detection Dataset and Benchmark \t https://openaccess.thecvf.com/content/ICCV2023/papers/Zust_LaRS_A_Diverse_Panoptic_Maritime_Obstacle_Detection_Dataset_and_Benchmark_ICCV_2023_paper.pdf\n",
      "159 \t SparseDet: Improving Sparsely Annotated Object Detection with Pseudo-positive Mining \t https://openaccess.thecvf.com/content/ICCV2023/papers/Suri_SparseDet_Improving_Sparsely_Annotated_Object_Detection_with_Pseudo-positive_Mining_ICCV_2023_paper.pdf\n",
      "160 \t DiffusionDet: Diffusion Model for Object Detection \t https://openaccess.thecvf.com/content/ICCV2023/papers/Chen_DiffusionDet_Diffusion_Model_for_Object_Detection_ICCV_2023_paper.pdf\n",
      "161 \t DQS3D: Densely-matched Quantization-aware Semi-supervised 3D Detection \t https://openaccess.thecvf.com/content/ICCV2023/papers/Gao_DQS3D_Densely-matched_Quantization-aware_Semi-supervised_3D_Detection_ICCV_2023_paper.pdf\n",
      "162 \t Cyclic-Bootstrap Labeling for Weakly Supervised Object Detection \t https://openaccess.thecvf.com/content/ICCV2023/papers/Yin_Cyclic-Bootstrap_Labeling_for_Weakly_Supervised_Object_Detection_ICCV_2023_paper.pdf\n",
      "163 \t Neural Interactive Keypoint Detection \t https://openaccess.thecvf.com/content/ICCV2023/papers/Yang_Neural_Interactive_Keypoint_Detection_ICCV_2023_paper.pdf\n",
      "164 \t Spurious Features Everywhere - Large-Scale Detection of Harmful Spurious Features in ImageNet \t https://openaccess.thecvf.com/content/ICCV2023/papers/Neuhaus_Spurious_Features_Everywhere_-_Large-Scale_Detection_of_Harmful_Spurious_Features_ICCV_2023_paper.pdf\n",
      "165 \t Temporal Enhanced Training of Multi-view 3D Object Detector via Historical Object Prediction \t https://openaccess.thecvf.com/content/ICCV2023/papers/Zong_Temporal_Enhanced_Training_of_Multi-view_3D_Object_Detector_via_Historical_ICCV_2023_paper.pdf\n",
      "166 \t Label-Efficient Online Continual Object Detection in Streaming Video \t https://openaccess.thecvf.com/content/ICCV2023/papers/Wu_Label-Efficient_Online_Continual_Object_Detection_in_Streaming_Video_ICCV_2023_paper.pdf\n",
      "167 \t Inter-Realization Channels: Unsupervised Anomaly Detection Beyond One-Class Classification \t https://openaccess.thecvf.com/content/ICCV2023/papers/McIntosh_Inter-Realization_Channels_Unsupervised_Anomaly_Detection_Beyond_One-Class_Classification_ICCV_2023_paper.pdf\n",
      "168 \t CoTDet: Affordance Knowledge Prompting for Task Driven Object Detection \t https://openaccess.thecvf.com/content/ICCV2023/papers/Tang_CoTDet_Affordance_Knowledge_Prompting_for_Task_Driven_Object_Detection_ICCV_2023_paper.pdf\n",
      "169 \t Out-of-Distribution Detection for Monocular Depth Estimation \t https://openaccess.thecvf.com/content/ICCV2023/papers/Hornauer_Out-of-Distribution_Detection_for_Monocular_Depth_Estimation_ICCV_2023_paper.pdf\n",
      "170 \t Efficient Transformer-based 3D Object Detection with Dynamic Token Halting \t https://openaccess.thecvf.com/content/ICCV2023/papers/Ye_Efficient_Transformer-based_3D_Object_Detection_with_Dynamic_Token_Halting_ICCV_2023_paper.pdf\n"
     ]
    }
   ],
   "source": [
    "# download the papers one by one. The files are named after the titles (guaranteed to be valid file name after processed by slugify.)\n",
    "print('Start downloading')\n",
    "headers = {'user-agent': 'Mozilla/5.0 (Windows NT 10.0; WOW64; rv:57.0) Gecko/20100101 Firefox/57.0'}\n",
    "for i, url in enumerate(download_pdfurllist):\n",
    "    if url != None :      \n",
    "        pdfname = slugify(download_pdfnamelist[i], lowercase=False, separator=\"_\")  # 设置下划线为分隔符\n",
    "        if os.path.isfile(root+'/'+pdfname+\".pdf\"):\n",
    "            print('existed', i, '\\t', download_pdfnamelist[i], '\\t', download_pdfurllist[i])\n",
    "        else:\n",
    "            print(i, '\\t', download_pdfnamelist[i], '\\t', download_pdfurllist[i])\n",
    "            data = requests.get(download_pdfurllist[i], timeout=80, headers=headers).content\n",
    "            \n",
    "            with open(os.path.join(root,pdfname+\".pdf\"), 'wb')  as f:\n",
    "                f.write(data)  \n",
    "            _ = time.sleep(random.uniform(4,5)) # for anti-anti-crawler purpose"
   ]
  },
  {
   "cell_type": "code",
   "execution_count": null,
   "metadata": {},
   "outputs": [],
   "source": []
  }
 ],
 "metadata": {
  "interpreter": {
   "hash": "7c16dd9570c275ceb1b29686f39d4c11b50b517b5c1e89dcad271181d964a2f7"
  },
  "kernelspec": {
   "display_name": "Python 3 (ipykernel)",
   "language": "python",
   "name": "python3"
  },
  "language_info": {
   "codemirror_mode": {
    "name": "ipython",
    "version": 3
   },
   "file_extension": ".py",
   "mimetype": "text/x-python",
   "name": "python",
   "nbconvert_exporter": "python",
   "pygments_lexer": "ipython3",
   "version": "3.9.12"
  }
 },
 "nbformat": 4,
 "nbformat_minor": 2
}
